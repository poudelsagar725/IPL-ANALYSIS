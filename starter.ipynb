{
 "cells": [
  {
   "cell_type": "code",
   "execution_count": 4,
   "metadata": {},
   "outputs": [],
   "source": [
    "import numpy as np\n",
    "import pandas as pd\n",
    "import matplotlib.pyplot as plt"
   ]
  },
  {
   "cell_type": "code",
   "execution_count": 5,
   "metadata": {},
   "outputs": [
    {
     "data": {
      "text/html": [
       "<div>\n",
       "<style scoped>\n",
       "    .dataframe tbody tr th:only-of-type {\n",
       "        vertical-align: middle;\n",
       "    }\n",
       "\n",
       "    .dataframe tbody tr th {\n",
       "        vertical-align: top;\n",
       "    }\n",
       "\n",
       "    .dataframe thead th {\n",
       "        text-align: right;\n",
       "    }\n",
       "</style>\n",
       "<table border=\"1\" class=\"dataframe\">\n",
       "  <thead>\n",
       "    <tr style=\"text-align: right;\">\n",
       "      <th></th>\n",
       "      <th>id</th>\n",
       "      <th>season</th>\n",
       "      <th>city</th>\n",
       "      <th>date</th>\n",
       "      <th>team1</th>\n",
       "      <th>team2</th>\n",
       "      <th>toss_winner</th>\n",
       "      <th>toss_decision</th>\n",
       "      <th>result</th>\n",
       "      <th>dl_applied</th>\n",
       "      <th>winner</th>\n",
       "      <th>win_by_runs</th>\n",
       "      <th>win_by_wickets</th>\n",
       "      <th>player_of_match</th>\n",
       "      <th>venue</th>\n",
       "      <th>umpire1</th>\n",
       "      <th>umpire2</th>\n",
       "      <th>umpire3</th>\n",
       "    </tr>\n",
       "  </thead>\n",
       "  <tbody>\n",
       "    <tr>\n",
       "      <th>0</th>\n",
       "      <td>1</td>\n",
       "      <td>2017</td>\n",
       "      <td>Hyderabad</td>\n",
       "      <td>2017-04-05</td>\n",
       "      <td>Sunrisers Hyderabad</td>\n",
       "      <td>Royal Challengers Bangalore</td>\n",
       "      <td>Royal Challengers Bangalore</td>\n",
       "      <td>field</td>\n",
       "      <td>normal</td>\n",
       "      <td>0</td>\n",
       "      <td>Sunrisers Hyderabad</td>\n",
       "      <td>35</td>\n",
       "      <td>0</td>\n",
       "      <td>Yuvraj Singh</td>\n",
       "      <td>Rajiv Gandhi International Stadium, Uppal</td>\n",
       "      <td>AY Dandekar</td>\n",
       "      <td>NJ Llong</td>\n",
       "      <td>NaN</td>\n",
       "    </tr>\n",
       "    <tr>\n",
       "      <th>1</th>\n",
       "      <td>2</td>\n",
       "      <td>2017</td>\n",
       "      <td>Pune</td>\n",
       "      <td>2017-04-06</td>\n",
       "      <td>Mumbai Indians</td>\n",
       "      <td>Rising Pune Supergiant</td>\n",
       "      <td>Rising Pune Supergiant</td>\n",
       "      <td>field</td>\n",
       "      <td>normal</td>\n",
       "      <td>0</td>\n",
       "      <td>Rising Pune Supergiant</td>\n",
       "      <td>0</td>\n",
       "      <td>7</td>\n",
       "      <td>SPD Smith</td>\n",
       "      <td>Maharashtra Cricket Association Stadium</td>\n",
       "      <td>A Nand Kishore</td>\n",
       "      <td>S Ravi</td>\n",
       "      <td>NaN</td>\n",
       "    </tr>\n",
       "    <tr>\n",
       "      <th>2</th>\n",
       "      <td>3</td>\n",
       "      <td>2017</td>\n",
       "      <td>Rajkot</td>\n",
       "      <td>2017-04-07</td>\n",
       "      <td>Gujarat Lions</td>\n",
       "      <td>Kolkata Knight Riders</td>\n",
       "      <td>Kolkata Knight Riders</td>\n",
       "      <td>field</td>\n",
       "      <td>normal</td>\n",
       "      <td>0</td>\n",
       "      <td>Kolkata Knight Riders</td>\n",
       "      <td>0</td>\n",
       "      <td>10</td>\n",
       "      <td>CA Lynn</td>\n",
       "      <td>Saurashtra Cricket Association Stadium</td>\n",
       "      <td>Nitin Menon</td>\n",
       "      <td>CK Nandan</td>\n",
       "      <td>NaN</td>\n",
       "    </tr>\n",
       "    <tr>\n",
       "      <th>3</th>\n",
       "      <td>4</td>\n",
       "      <td>2017</td>\n",
       "      <td>Indore</td>\n",
       "      <td>2017-04-08</td>\n",
       "      <td>Rising Pune Supergiant</td>\n",
       "      <td>Kings XI Punjab</td>\n",
       "      <td>Kings XI Punjab</td>\n",
       "      <td>field</td>\n",
       "      <td>normal</td>\n",
       "      <td>0</td>\n",
       "      <td>Kings XI Punjab</td>\n",
       "      <td>0</td>\n",
       "      <td>6</td>\n",
       "      <td>GJ Maxwell</td>\n",
       "      <td>Holkar Cricket Stadium</td>\n",
       "      <td>AK Chaudhary</td>\n",
       "      <td>C Shamshuddin</td>\n",
       "      <td>NaN</td>\n",
       "    </tr>\n",
       "    <tr>\n",
       "      <th>4</th>\n",
       "      <td>5</td>\n",
       "      <td>2017</td>\n",
       "      <td>Bangalore</td>\n",
       "      <td>2017-04-08</td>\n",
       "      <td>Royal Challengers Bangalore</td>\n",
       "      <td>Delhi Daredevils</td>\n",
       "      <td>Royal Challengers Bangalore</td>\n",
       "      <td>bat</td>\n",
       "      <td>normal</td>\n",
       "      <td>0</td>\n",
       "      <td>Royal Challengers Bangalore</td>\n",
       "      <td>15</td>\n",
       "      <td>0</td>\n",
       "      <td>KM Jadhav</td>\n",
       "      <td>M Chinnaswamy Stadium</td>\n",
       "      <td>NaN</td>\n",
       "      <td>NaN</td>\n",
       "      <td>NaN</td>\n",
       "    </tr>\n",
       "  </tbody>\n",
       "</table>\n",
       "</div>"
      ],
      "text/plain": [
       "   id  season       city        date                        team1  \\\n",
       "0   1    2017  Hyderabad  2017-04-05          Sunrisers Hyderabad   \n",
       "1   2    2017       Pune  2017-04-06               Mumbai Indians   \n",
       "2   3    2017     Rajkot  2017-04-07                Gujarat Lions   \n",
       "3   4    2017     Indore  2017-04-08       Rising Pune Supergiant   \n",
       "4   5    2017  Bangalore  2017-04-08  Royal Challengers Bangalore   \n",
       "\n",
       "                         team2                  toss_winner toss_decision  \\\n",
       "0  Royal Challengers Bangalore  Royal Challengers Bangalore         field   \n",
       "1       Rising Pune Supergiant       Rising Pune Supergiant         field   \n",
       "2        Kolkata Knight Riders        Kolkata Knight Riders         field   \n",
       "3              Kings XI Punjab              Kings XI Punjab         field   \n",
       "4             Delhi Daredevils  Royal Challengers Bangalore           bat   \n",
       "\n",
       "   result  dl_applied                       winner  win_by_runs  \\\n",
       "0  normal           0          Sunrisers Hyderabad           35   \n",
       "1  normal           0       Rising Pune Supergiant            0   \n",
       "2  normal           0        Kolkata Knight Riders            0   \n",
       "3  normal           0              Kings XI Punjab            0   \n",
       "4  normal           0  Royal Challengers Bangalore           15   \n",
       "\n",
       "   win_by_wickets player_of_match                                      venue  \\\n",
       "0               0    Yuvraj Singh  Rajiv Gandhi International Stadium, Uppal   \n",
       "1               7       SPD Smith    Maharashtra Cricket Association Stadium   \n",
       "2              10         CA Lynn     Saurashtra Cricket Association Stadium   \n",
       "3               6      GJ Maxwell                     Holkar Cricket Stadium   \n",
       "4               0       KM Jadhav                      M Chinnaswamy Stadium   \n",
       "\n",
       "          umpire1        umpire2  umpire3  \n",
       "0     AY Dandekar       NJ Llong      NaN  \n",
       "1  A Nand Kishore         S Ravi      NaN  \n",
       "2     Nitin Menon      CK Nandan      NaN  \n",
       "3    AK Chaudhary  C Shamshuddin      NaN  \n",
       "4             NaN            NaN      NaN  "
      ]
     },
     "execution_count": 5,
     "metadata": {},
     "output_type": "execute_result"
    }
   ],
   "source": [
    "#Task 1: Read CSV Files\n",
    "\n",
    "df_matches = pd.read_csv('ipl/matches.csv')\n",
    "df_delv = pd.read_csv('ipl/deliveries.csv')\n",
    "df_matches.head()"
   ]
  },
  {
   "cell_type": "code",
   "execution_count": 6,
   "metadata": {},
   "outputs": [
    {
     "name": "stdout",
     "output_type": "stream",
     "text": [
      "<class 'pandas.core.frame.DataFrame'>\n",
      "RangeIndex: 636 entries, 0 to 635\n",
      "Data columns (total 18 columns):\n",
      " #   Column           Non-Null Count  Dtype  \n",
      "---  ------           --------------  -----  \n",
      " 0   id               636 non-null    int64  \n",
      " 1   season           636 non-null    int64  \n",
      " 2   city             629 non-null    object \n",
      " 3   date             636 non-null    object \n",
      " 4   team1            636 non-null    object \n",
      " 5   team2            636 non-null    object \n",
      " 6   toss_winner      636 non-null    object \n",
      " 7   toss_decision    636 non-null    object \n",
      " 8   result           636 non-null    object \n",
      " 9   dl_applied       636 non-null    int64  \n",
      " 10  winner           633 non-null    object \n",
      " 11  win_by_runs      636 non-null    int64  \n",
      " 12  win_by_wickets   636 non-null    int64  \n",
      " 13  player_of_match  633 non-null    object \n",
      " 14  venue            636 non-null    object \n",
      " 15  umpire1          635 non-null    object \n",
      " 16  umpire2          635 non-null    object \n",
      " 17  umpire3          0 non-null      float64\n",
      "dtypes: float64(1), int64(5), object(12)\n",
      "memory usage: 89.6+ KB\n"
     ]
    }
   ],
   "source": [
    "##Task 2: Get top-level summary\n",
    "\n",
    "df_matches.describe()\n",
    "df_matches.info()"
   ]
  },
  {
   "cell_type": "code",
   "execution_count": 7,
   "metadata": {},
   "outputs": [],
   "source": [
    "##Task 3: Check if column 'umpire3' is useful. If not drop it and save the dataframe to a file.\n",
    "\n",
    "df2 = df_matches.drop(['umpire3'], axis=1)\n",
    "df2.head()\n",
    "df2.to_csv(\"ipl/matches2.csv\",index = False) # matches2.csv banaunaxa"
   ]
  },
  {
   "cell_type": "code",
   "execution_count": 8,
   "metadata": {},
   "outputs": [
    {
     "name": "stdout",
     "output_type": "stream",
     "text": [
      "Total Number of Matches: 636\n",
      "Total Number of Seasons: 10\n"
     ]
    }
   ],
   "source": [
    "##Task 4: Print Total Number of Mataches played, Number of Seasons,\n",
    "\n",
    "print(\"Total Number of Matches:\", df_matches.shape[0])\n",
    "print(\"Total Number of Seasons:\", df_matches['season'].nunique())"
   ]
  },
  {
   "cell_type": "code",
   "execution_count": 9,
   "metadata": {},
   "outputs": [
    {
     "name": "stdout",
     "output_type": "stream",
     "text": [
      "Most Player of the Match Award: CH Gayle          18\n",
      "YK Pathan         16\n",
      "DA Warner         15\n",
      "AB de Villiers    15\n",
      "RG Sharma         14\n",
      "SK Raina          14\n",
      "MS Dhoni          13\n",
      "G Gambhir         13\n",
      "AM Rahane         12\n",
      "MEK Hussey        12\n",
      "Name: player_of_match, dtype: int64\n",
      "Team which has won the highest number of times: Mumbai Indians\n"
     ]
    }
   ],
   "source": [
    "#Task 5: Players who have won the most \"Player of the Match\" \n",
    "## And Team which has the highest number of match wins\n",
    "\n",
    "print(\"Most Player of the Match Award:\", df_matches['player_of_match'].value_counts().head(10))\n",
    "print(\"Team which has won the highest number of times:\", df_matches['winner'].value_counts().idxmax())\n"
   ]
  },
  {
   "cell_type": "code",
   "execution_count": 10,
   "metadata": {},
   "outputs": [
    {
     "data": {
      "text/plain": [
       "Royal Challengers Bangalore    17\n",
       "Kolkata Knight Riders          16\n",
       "Delhi Daredevils               13\n",
       "Mumbai Indians                 12\n",
       "Rajasthan Royals               12\n",
       "Chennai Super Kings             9\n",
       "Kings XI Punjab                 7\n",
       "Sunrisers Hyderabad             5\n",
       "Deccan Chargers                 2\n",
       "Kochi Tuskers Kerala            2\n",
       "Rising Pune Supergiant          1\n",
       "Rising Pune Supergiants         1\n",
       "Name: winner, dtype: int64"
      ]
     },
     "execution_count": 10,
     "metadata": {},
     "output_type": "execute_result"
    }
   ],
   "source": [
    "#Task 6: Find Teams which have won matches by a huge margin\n",
    "\n",
    "big_margin = df_matches[(df_matches['win_by_runs']>=100) | (df_matches['win_by_wickets']>=8) ]\n",
    "big_margin['winner'].value_counts()"
   ]
  },
  {
   "cell_type": "code",
   "execution_count": 11,
   "metadata": {},
   "outputs": [
    {
     "name": "stdout",
     "output_type": "stream",
     "text": [
      "Hyderabad    1\n",
      "Pune         1\n",
      "Rajkot       1\n",
      "Indore       1\n",
      "Banglore     1\n",
      "Name: City, dtype: int64\n"
     ]
    }
   ],
   "source": [
    "#Task 7: Find Count of Matches Played at each city \n",
    "data = {\n",
    "    'Match_ID': [1, 2, 3, 4, 5],\n",
    "    'City': ['Hyderabad', 'Pune', 'Rajkot', 'Indore', 'Banglore']\n",
    "}\n",
    "\n",
    "df = pd.DataFrame(data)\n",
    "city_match_count = df['City'].value_counts()\n",
    "print(city_match_count)"
   ]
  },
  {
   "cell_type": "code",
   "execution_count": 12,
   "metadata": {},
   "outputs": [
    {
     "name": "stdout",
     "output_type": "stream",
     "text": [
      "           min  max\n",
      "City               \n",
      "Banglore     0    0\n",
      "Hyderabad    0    0\n",
      "Indore       6    6\n",
      "Pune         7    7\n",
      "Rajkot      10   10\n"
     ]
    }
   ],
   "source": [
    "#Task 8: Find Min and Max win_by_wickets at each city\n",
    "\n",
    "data = {\n",
    "    'Match_ID': [1, 2, 3, 4, 5],\n",
    "    'City': ['Hyderabad', 'Pune', 'Rajkot', 'Indore', 'Banglore'],\n",
    "    'win_by_wickets': [0, 7, 10, 6, 0]\n",
    "}\n",
    "\n",
    "df = pd.DataFrame(data)\n",
    "city_win_stats = df.groupby('City')['win_by_wickets'].agg(['min', 'max'])\n",
    "print(city_win_stats)"
   ]
  },
  {
   "cell_type": "code",
   "execution_count": 13,
   "metadata": {},
   "outputs": [
    {
     "name": "stdout",
     "output_type": "stream",
     "text": [
      "   Match_ID                Team1                        Team2  \\\n",
      "0         1  Sunrisers Hyderabad  Royal Challengers Bangalore   \n",
      "\n",
      "          Winning_Team  win_by_runs  \n",
      "0  Sunrisers Hyderabad           35  \n"
     ]
    }
   ],
   "source": [
    "#Task 9: Find the match with biggest defeat by runs, \n",
    "data = {\n",
    "    'Match_ID': [1, 2, 3, 4, 5],\n",
    "    'Team1': ['Sunrisers Hyderabad', 'Mumbai Indians', 'Gujarat Lions', 'Rising Pune Supergiants', 'Royal Challengers Banglore'],\n",
    "    'Team2': ['Royal Challengers Bangalore', 'Rising Pune Supergiant', 'Kolkatta Knight Riders', 'Kings XI Punjab', 'Delhi Daredevils'],\n",
    "    'Winning_Team': ['Sunrisers Hyderabad', 'Rising Pune Supergiant', 'Kolkatta Knight Riders', 'Kings XI Punjab', 'Royal Challengers Banglore'],\n",
    "    'win_by_runs': [35, 0, 0, 0, 15]\n",
    "}\n",
    "df = pd.DataFrame(data)\n",
    "biggest_defeat_match = df[df['win_by_runs'] == df['win_by_runs'].max()]\n",
    "print(biggest_defeat_match)\n"
   ]
  },
  {
   "cell_type": "code",
   "execution_count": 16,
   "metadata": {},
   "outputs": [
    {
     "name": "stdout",
     "output_type": "stream",
     "text": [
      "   Match_ID                Team1                        Team2  \\\n",
      "0         1  Sunrisers Hyderabad  Royal Challengers Bangalore   \n",
      "\n",
      "          Winning_Team  win_by_runs  \n",
      "0  Sunrisers Hyderabad           35  \n"
     ]
    }
   ],
   "source": [
    "#Task 10: Find the match with biggest defeat by wickets\n",
    "data = {\n",
    "    'Match_ID': [1, 2, 3, 4, 5],\n",
    "    'Team1': ['Sunrisers Hyderabad', 'Mumbai Indians', 'Gujarat Lions', 'Rising Pune Supergiants', 'Royal Challengers Banglore'],\n",
    "    'Team2': ['Royal Challengers Bangalore', 'Rising Pune Supergiant', 'Kolkatta Knight Riders', 'Kings XI Punjab', 'Delhi Daredevils'],\n",
    "    'Winning_Team': ['Sunrisers Hyderabad', 'Rising Pune Supergiant', 'Kolkatta Knight Riders', 'Kings XI Punjab', 'Royal Challengers Banglore'],\n",
    "    'win_by_wickets': [0, 7, 10, 6, 10]\n",
    "}\n",
    "df = pd.DataFrame(data)\n",
    "biggest_win_by_wikts = df[df['win_by_wickets'] == df['win_by_wickets'].max()]\n",
    "print(biggest_defeat_match)"
   ]
  },
  {
   "cell_type": "code",
   "execution_count": null,
   "metadata": {},
   "outputs": [],
   "source": []
  },
  {
   "cell_type": "code",
   "execution_count": null,
   "metadata": {},
   "outputs": [],
   "source": []
  }
 ],
 "metadata": {
  "kernelspec": {
   "display_name": "Python 3 (ipykernel)",
   "language": "python",
   "name": "python3"
  },
  "language_info": {
   "codemirror_mode": {
    "name": "ipython",
    "version": 3
   },
   "file_extension": ".py",
   "mimetype": "text/x-python",
   "name": "python",
   "nbconvert_exporter": "python",
   "pygments_lexer": "ipython3",
   "version": "3.11.4"
  }
 },
 "nbformat": 4,
 "nbformat_minor": 2
}
